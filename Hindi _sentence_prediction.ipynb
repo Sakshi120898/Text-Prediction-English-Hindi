{
  "nbformat": 4,
  "nbformat_minor": 0,
  "metadata": {
    "colab": {
      "name": "Untitled8.ipynb",
      "provenance": []
    },
    "kernelspec": {
      "name": "python3",
      "display_name": "Python 3"
    },
    "accelerator": "GPU"
  },
  "cells": [
    {
      "cell_type": "code",
      "metadata": {
        "id": "PLwwrZvFBykZ",
        "colab_type": "code",
        "colab": {
          "base_uri": "https://localhost:8080/",
          "height": 538
        },
        "outputId": "e5c4a534-2375-451a-c3a3-7bbb4e6f59d7"
      },
      "source": [
        "!pip install progressbar\n",
        "!pip install transliteration"
      ],
      "execution_count": null,
      "outputs": [
        {
          "output_type": "stream",
          "text": [
            "Collecting progressbar\n",
            "  Downloading https://files.pythonhosted.org/packages/a3/a6/b8e451f6cff1c99b4747a2f7235aa904d2d49e8e1464e0b798272aa84358/progressbar-2.5.tar.gz\n",
            "Building wheels for collected packages: progressbar\n",
            "  Building wheel for progressbar (setup.py) ... \u001b[?25l\u001b[?25hdone\n",
            "  Created wheel for progressbar: filename=progressbar-2.5-cp36-none-any.whl size=12074 sha256=46c726f0c02583cba2574241359c94157e48022a5e33db6f86c66714abc37aa1\n",
            "  Stored in directory: /root/.cache/pip/wheels/c0/e9/6b/ea01090205e285175842339aa3b491adeb4015206cda272ff0\n",
            "Successfully built progressbar\n",
            "Installing collected packages: progressbar\n",
            "Successfully installed progressbar-2.5\n",
            "Collecting transliteration\n",
            "\u001b[?25l  Downloading https://files.pythonhosted.org/packages/3b/56/3f76652f21634a4753e8880f0d37834805476ec7b83c36e6a2383ca2288d/transliteration-0.4.1.tar.gz (846kB)\n",
            "\u001b[K     |████████████████████████████████| 849kB 4.9MB/s \n",
            "\u001b[?25hRequirement already satisfied: setuptools in /usr/local/lib/python3.6/dist-packages (from transliteration) (46.3.0)\n",
            "Collecting normalizer\n",
            "  Downloading https://files.pythonhosted.org/packages/67/ab/a1a09513d1f157ca17dca1cd9ee2c56fa40a8945c466398c37a0daae10d1/normalizer-0.2.1.tar.gz\n",
            "Collecting silpa_common\n",
            "  Downloading https://files.pythonhosted.org/packages/8d/55/452f5103cb7071d188a818d9e2f12c19c4c8a12124a28aaa212eb6716a4d/silpa_common-0.3.tar.gz\n",
            "Building wheels for collected packages: transliteration, normalizer, silpa-common\n",
            "  Building wheel for transliteration (setup.py) ... \u001b[?25l\u001b[?25hdone\n",
            "  Created wheel for transliteration: filename=transliteration-0.4.1-cp36-none-any.whl size=848954 sha256=1e67847c13ed6bae6a494fb37c61939f49e13b2a4fa5adec88190e6bd0caed96\n",
            "  Stored in directory: /root/.cache/pip/wheels/79/9c/2d/52407b904883634c54376392b566005cca6b00763d6d3280f8\n",
            "  Building wheel for normalizer (setup.py) ... \u001b[?25l\u001b[?25hdone\n",
            "  Created wheel for normalizer: filename=normalizer-0.2.1-cp36-none-any.whl size=3755 sha256=65db7083576c8957272d27a43a40a0f566d0b33035ac87983aa81ab4f29072ee\n",
            "  Stored in directory: /root/.cache/pip/wheels/12/bd/7d/f4333e45927815ebaae3241a46343349c0cccbc0e413b87fe5\n",
            "  Building wheel for silpa-common (setup.py) ... \u001b[?25l\u001b[?25hdone\n",
            "  Created wheel for silpa-common: filename=silpa_common-0.3-cp36-none-any.whl size=8453 sha256=25c52b6baa9ef549f063cee6269d9491e95c2e5d445cc763fbbc95f34ca6d35c\n",
            "  Stored in directory: /root/.cache/pip/wheels/16/4f/ba/604a82bf904740f1a1d3ad88029c0df5c638bd8825a3cb972d\n",
            "Successfully built transliteration normalizer silpa-common\n",
            "Installing collected packages: normalizer, silpa-common, transliteration\n",
            "Successfully installed normalizer-0.2.1 silpa-common-0.3 transliteration-0.4.1\n"
          ],
          "name": "stdout"
        }
      ]
    },
    {
      "cell_type": "markdown",
      "metadata": {
        "id": "lmE9V_7MHUVt",
        "colab_type": "text"
      },
      "source": [
        ""
      ]
    },
    {
      "cell_type": "code",
      "metadata": {
        "id": "cSZMzBngBzy7",
        "colab_type": "code",
        "colab": {
          "base_uri": "https://localhost:8080/",
          "height": 371
        },
        "outputId": "ea4091f1-0556-4308-abcd-dc27f913f01e"
      },
      "source": [
        "!pip install indic_transliteration"
      ],
      "execution_count": null,
      "outputs": [
        {
          "output_type": "stream",
          "text": [
            "Collecting indic_transliteration\n",
            "\u001b[?25l  Downloading https://files.pythonhosted.org/packages/bb/73/0491e03996146fc605f2cacf751968f35cfc586aadd9e5181fa47b0f9bdf/indic_transliteration-1.9.4-py3-none-any.whl (94kB)\n",
            "\r\u001b[K     |███▌                            | 10kB 17.1MB/s eta 0:00:01\r\u001b[K     |███████                         | 20kB 4.2MB/s eta 0:00:01\r\u001b[K     |██████████▌                     | 30kB 5.4MB/s eta 0:00:01\r\u001b[K     |██████████████                  | 40kB 5.5MB/s eta 0:00:01\r\u001b[K     |█████████████████▍              | 51kB 4.8MB/s eta 0:00:01\r\u001b[K     |█████████████████████           | 61kB 5.0MB/s eta 0:00:01\r\u001b[K     |████████████████████████▍       | 71kB 5.4MB/s eta 0:00:01\r\u001b[K     |███████████████████████████▉    | 81kB 5.8MB/s eta 0:00:01\r\u001b[K     |███████████████████████████████▍| 92kB 6.2MB/s eta 0:00:01\r\u001b[K     |████████████████████████████████| 102kB 4.5MB/s \n",
            "\u001b[?25hCollecting backports.functools-lru-cache\n",
            "  Downloading https://files.pythonhosted.org/packages/da/d1/080d2bb13773803648281a49e3918f65b31b7beebf009887a529357fd44a/backports.functools_lru_cache-1.6.1-py2.py3-none-any.whl\n",
            "Collecting splinter\n",
            "  Downloading https://files.pythonhosted.org/packages/d1/46/bb01079ef246d61c2432420c6cd63ecb11e0e909a5da42abcb407e0fb4e2/splinter-0.13.0.tar.gz\n",
            "Requirement already satisfied: regex in /usr/local/lib/python3.6/dist-packages (from indic_transliteration) (2019.12.20)\n",
            "Collecting selenium>=3.141.0\n",
            "\u001b[?25l  Downloading https://files.pythonhosted.org/packages/80/d6/4294f0b4bce4de0abf13e17190289f9d0613b0a44e5dd6a7f5ca98459853/selenium-3.141.0-py2.py3-none-any.whl (904kB)\n",
            "\u001b[K     |████████████████████████████████| 911kB 10.5MB/s \n",
            "\u001b[?25hRequirement already satisfied: six in /usr/local/lib/python3.6/dist-packages (from splinter->indic_transliteration) (1.12.0)\n",
            "Requirement already satisfied: urllib3 in /usr/local/lib/python3.6/dist-packages (from selenium>=3.141.0->splinter->indic_transliteration) (1.24.3)\n",
            "Building wheels for collected packages: splinter\n",
            "  Building wheel for splinter (setup.py) ... \u001b[?25l\u001b[?25hdone\n",
            "  Created wheel for splinter: filename=splinter-0.13.0-cp36-none-any.whl size=33304 sha256=19e97197dadb19fd40ba181c70c0af9dbd4c9098f8fcf549dad0d69dc0f363a4\n",
            "  Stored in directory: /root/.cache/pip/wheels/fd/ff/26/2fc56897bcbe58908bbb2002c53affb516e5e6daa425aefdef\n",
            "Successfully built splinter\n",
            "Installing collected packages: backports.functools-lru-cache, selenium, splinter, indic-transliteration\n",
            "Successfully installed backports.functools-lru-cache-1.6.1 indic-transliteration-1.9.4 selenium-3.141.0 splinter-0.13.0\n"
          ],
          "name": "stdout"
        }
      ]
    },
    {
      "cell_type": "code",
      "metadata": {
        "id": "FOtQRgJNCDDO",
        "colab_type": "code",
        "colab": {
          "base_uri": "https://localhost:8080/",
          "height": 33
        },
        "outputId": "0c8f6e01-f33d-4c67-d19c-7dce5ca2f30e"
      },
      "source": [
        "import urllib.request\n",
        "import os\n",
        "import zipfile\n",
        "import glob\n",
        "import numpy as np\n",
        "import random\n",
        "from keras import models\n",
        "from keras import layers\n",
        "from keras import callbacks\n",
        "from keras.utils import plot_model\n",
        "import matplotlib.pyplot as plt\n",
        "import progressbar\n",
        "from indic_transliteration import sanscript"
      ],
      "execution_count": null,
      "outputs": [
        {
          "output_type": "stream",
          "text": [
            "Using TensorFlow backend.\n"
          ],
          "name": "stderr"
        }
      ]
    },
    {
      "cell_type": "code",
      "metadata": {
        "id": "KZUN0kG6CIr4",
        "colab_type": "code",
        "colab": {}
      },
      "source": [
        "corpus_path = \"corpus\"\n",
        " \n",
        "# Hyperparameters.\n",
        "transliteration = True \n",
        "input_length = 40\n",
        "output_length = 1 \n",
        "data_set_size = 100000\n",
        "num_epochs = 50 \n",
        "batch_size = 256 \n",
        "hidden_size = 350 \n",
        "generation_length = 100 "
      ],
      "execution_count": null,
      "outputs": []
    },
    {
      "cell_type": "code",
      "metadata": {
        "id": "1jmxn31NCMoa",
        "colab_type": "code",
        "colab": {}
      },
      "source": [
        "def main():\n",
        "    # download corpus.\n",
        "    ensure_corpus()\n",
        " \n",
        "    (train_input, train_output) = load_data()\n",
        "    print(\"train_input\", train_input.shape, \" \", train_output.shape)\n",
        " \n",
        "    global model\n",
        "    model = create_model()\n",
        "\n",
        "    generate_callback = callbacks.LambdaCallback(on_epoch_end=on_epoch_end)\n",
        " \n",
        "    history = model.fit(\n",
        "        train_input, train_output,\n",
        "        epochs=num_epochs, batch_size=batch_size,\n",
        "        callbacks = [generate_callback]\n",
        "    )\n",
        " \n",
        "  \n",
        "    model.save(\"model.h5\")\n",
        " \n",
        "   \n",
        "    plot_history(history)"
      ],
      "execution_count": null,
      "outputs": []
    },
    {
      "cell_type": "code",
      "metadata": {
        "id": "xvl_X5cnCRKr",
        "colab_type": "code",
        "colab": {}
      },
      "source": [
        "def ensure_corpus():\n",
        "\n",
        "    \n",
        "    if os.path.exists(\"corpus\") == False:\n",
        "        # Download the whole git-repository as a zip.\n",
        "        print(\"Downloading corpus...\")\n",
        "        corpus_url = \"https://github.com/cltk/hindi_text_ltrc/archive/master.zip\"\n",
        "        corpus_zip_path = \"master.zip\"\n",
        "        urllib.request.urlretrieve(corpus_url, corpus_zip_path)\n",
        " \n",
        "       \n",
        "        \n",
        "        zip_file = zipfile.ZipFile(corpus_zip_path, 'r')\n",
        "        zip_file.extractall(corpus_path)\n",
        "        zip_file.close()\n",
        " \n",
        "      \n",
        "        os.remove(corpus_zip_path)"
      ],
      "execution_count": null,
      "outputs": []
    },
    {
      "cell_type": "code",
      "metadata": {
        "id": "r60fBjilCUyA",
        "colab_type": "code",
        "colab": {}
      },
      "source": [
        "def load_data():\n",
        "\n",
        "    glob_path = os.path.join(corpus_path, \"**/*.txt\")\n",
        "    paths = glob.glob(glob_path, recursive=True)\n",
        "\n",
        "    print(\"Loading all files...\")\n",
        "    file_contents = []\n",
        "    for path in paths:\n",
        "        file_content = open(path, \"r\", encoding = \"utf-8\").read()\n",
        "        if transliteration == True:\n",
        "            file_content = sanscript.transliterate(file_content, sanscript.DEVANAGARI, sanscript.IAST)\n",
        "        file_content = clean_text(file_content)\n",
        "        file_contents.append(file_content)\n",
        " \n",
        "    print(\"Getting character set...\")\n",
        "    global full_text\n",
        "    full_text = \" \".join(file_contents)\n",
        "    global character_set\n",
        "    character_set = get_character_set(full_text)\n",
        "    print(\"Character set:\", character_set)\n",
        " \n",
        "    # Process the data.\n",
        "    data_input = []\n",
        "    data_output = []\n",
        "    current_size = 0\n",
        "    print(\"Generating data set...\")\n",
        "    bar = progressbar.ProgressBar(maxval = data_set_size)\n",
        "    bar.start()\n",
        "    while current_size < data_set_size:\n",
        "        random_file_content = random.choice(file_contents)\n",
        "        # print(\"random : \", random_file_content)\n",
        "        random_string = random_substring_of_length(random_file_content, input_length + output_length)\n",
        " \n",
        "        random_string_encoded = encode_string(random_string)\n",
        " \n",
        "        input_sequence = random_string_encoded[:input_length]\n",
        "        output_sequence = random_string_encoded[input_length:]\n",
        " \n",
        "        data_input.append(input_sequence)\n",
        "        data_output.append(output_sequence)\n",
        " \n",
        "        current_size += 1\n",
        "        bar.update(current_size)\n",
        "    bar.finish()\n",
        "\n",
        "    train_input = np.array(data_input)\n",
        "    train_output = np.array(data_output)\n",
        "    return (train_input, train_output)"
      ],
      "execution_count": null,
      "outputs": []
    },
    {
      "cell_type": "code",
      "metadata": {
        "id": "Gnl1SEzZCZ73",
        "colab_type": "code",
        "colab": {}
      },
      "source": [
        "def clean_text(text):\n",
        "    \n",
        "    text = text.replace(\"\\t\", \" \")\n",
        "    text = text.replace(\"\\n\", \" \")\n",
        "    text = text.replace(\"।\", \" \")\n",
        "    text = text.replace(\"0\", \" \")\n",
        "    text = text.replace(\"1\", \" \")\n",
        "    text = text.replace(\"2\", \" \")\n",
        "    text = text.replace(\"3\", \" \")\n",
        "    text = text.replace(\"4\", \" \")\n",
        "    text = text.replace(\"5\", \" \")\n",
        "    text = text.replace(\"6\", \" \")\n",
        "    text = text.replace(\"7\", \" \")\n",
        "    text = text.replace(\"8\", \" \")\n",
        "    text = text.replace(\"9\", \" \")\n",
        "    text = \" \".join(text.split())\n",
        "    \n",
        "    return text"
      ],
      "execution_count": null,
      "outputs": []
    },
    {
      "cell_type": "code",
      "metadata": {
        "id": "6ZKpiPMsChS0",
        "colab_type": "code",
        "colab": {}
      },
      "source": [
        "def get_character_set(string):\n",
        "    # get all unique characters.\n",
        "    return sorted(list(set(string)))\n",
        "\n",
        "def random_substring_of_length(string, length):\n",
        "    # get random substring.\n",
        "    start_index = random.randint(0, len(string) - length)\n",
        "    return string[start_index:start_index + length]"
      ],
      "execution_count": null,
      "outputs": []
    },
    {
      "cell_type": "code",
      "metadata": {
        "id": "ILOhEmSVCj2T",
        "colab_type": "code",
        "colab": {}
      },
      "source": [
        "def encode_string(string):\n",
        "    \"\"\" Encodes a string in order to use it in the Neural Network context. \"\"\"\n",
        "    # character_set = [' ', '!', '\"', \"'\", '(', ')', ',', '-', '.', '/', ':', '=', '?', '`', 'a', 'b', 'c', 'd', 'e', 'f', 'g', 'h', 'i', 'j', 'k', 'l', 'm', 'n', 'o', 'p', 'q', 'r', 's', 't', 'u', 'v', 'y', 'z', '|', 'Ê', 'Ù', 'Ý', 'è', 'é', 'ê', 'í', 'ñ', 'û', 'ā', 'ġ', 'ī', 'ś', 'ū', '̐', '़', 'ॅ', 'ॉ', 'ḍ', 'ḥ', 'ḷ', 'ḻ', 'ṃ', 'ṅ', 'ṇ', 'ṛ', 'ṝ', 'ṣ', 'ṭ', '\\u200c', '\\u200d', '–', '’']\n",
        "    encoded_string = []\n",
        "    for character in string:\n",
        "        encoded_character = np.zeros((len(character_set),))\n",
        "        one_hot_index = character_set.index(character)\n",
        "        encoded_character[one_hot_index] = 1.0\n",
        "        encoded_string.append(encoded_character)\n",
        "    return np.array(encoded_string)"
      ],
      "execution_count": null,
      "outputs": []
    },
    {
      "cell_type": "code",
      "metadata": {
        "id": "cT5VALBjCmJd",
        "colab_type": "code",
        "colab": {}
      },
      "source": [
        "def create_model():\n",
        "\n",
        "    input_shape = (input_length, len(character_set))\n",
        " \n",
        "    model = models.Sequential()\n",
        "    model.add(layers.LSTM(hidden_size, input_shape=input_shape, activation=\"relu\"))\n",
        "    model.add(layers.Dense(output_length * len(character_set), activation=\"relu\"))\n",
        "    model.add(layers.Reshape((output_length, len(character_set))))\n",
        "    model.add(layers.TimeDistributed(layers.Dense(len(character_set), activation=\"softmax\")))\n",
        "    model.summary()\n",
        " \n",
        "    model.compile(\n",
        "        loss='categorical_crossentropy',\n",
        "        optimizer='adam',\n",
        "        metrics=['accuracy'])\n",
        " \n",
        "    return model"
      ],
      "execution_count": null,
      "outputs": []
    },
    {
      "cell_type": "code",
      "metadata": {
        "id": "IeloodZ6Cobs",
        "colab_type": "code",
        "colab": {}
      },
      "source": [
        "def plot_history(history):\n",
        "\n",
        "    plt.plot(history.history['accuracy'])\n",
        "    plt.title('model accuracy')\n",
        "    plt.ylabel('accuracy')\n",
        "    plt.xlabel('epoch')\n",
        "    plt.legend(['train', 'test'], loc='upper left')\n",
        "    plt.savefig(\"accuracy.png\")\n",
        "    plt.clf()\n",
        "\n",
        "    plt.plot(history.history['loss'])\n",
        "    plt.title('model loss')\n",
        "    plt.ylabel('loss')\n",
        "    plt.xlabel('epoch')\n",
        "    plt.legend(['train', 'test'], loc='upper left')\n",
        "    plt.savefig(\"loss.png\")"
      ],
      "execution_count": null,
      "outputs": []
    },
    {
      "cell_type": "code",
      "metadata": {
        "id": "UwCfy66rCrkT",
        "colab_type": "code",
        "colab": {}
      },
      "source": [
        "def on_epoch_end(epoch, logs):\n",
        "\n",
        "    if epoch % 10 == 0 and epoch != 0:\n",
        "        print(\"\")\n",
        " \n",
        "        for temperature in [0.0, 0.25, 0.5, 0.75, 1.0]:\n",
        "            # print(\"Temperature:\", temperature)\n",
        "            global full_text\n",
        "            random_string = random_substring_of_length(full_text, input_length)\n",
        "            result_string = random_string\n",
        "            print(\"Seed string:  \", sanscript.transliterate(random_string, sanscript.IAST, sanscript.DEVANAGARI))\n",
        "            input_sequence = encode_string(random_string)\n",
        " \n",
        "            \n",
        "            while len(result_string) < generation_length:\n",
        "                output_sequence = model.predict(np.expand_dims(input_sequence, axis=0))\n",
        "                output_sequence = output_sequence[0]\n",
        "                decoded_string = decode_sequence(output_sequence, temperature)\n",
        "                output_sequence = encode_string(decoded_string)\n",
        "                result_string += decoded_string\n",
        "                input_sequence = input_sequence[output_length:]\n",
        "                input_sequence = np.concatenate((input_sequence, output_sequence), axis=0)\n",
        " \n",
        "            print(\"Result string:\", sanscript.transliterate(result_string, sanscript.IAST, sanscript.DEVANAGARI), len(result_string))"
      ],
      "execution_count": null,
      "outputs": []
    },
    {
      "cell_type": "code",
      "metadata": {
        "id": "Bq6SFeYxCvkx",
        "colab_type": "code",
        "colab": {}
      },
      "source": [
        "generate_callback = callbacks.LambdaCallback(on_epoch_end=on_epoch_end)"
      ],
      "execution_count": null,
      "outputs": []
    },
    {
      "cell_type": "code",
      "metadata": {
        "id": "qg4tB7plCzPf",
        "colab_type": "code",
        "colab": {}
      },
      "source": [
        "def decode_sequence(sequence, temperature=0.0):\n",
        "\n",
        "    result_string = \"\"\n",
        "    for element in sequence:\n",
        "        index = get_index_from_prediction(element)\n",
        "        character = character_set[index]\n",
        "        result_string += character\n",
        "    return result_string"
      ],
      "execution_count": null,
      "outputs": []
    },
    {
      "cell_type": "code",
      "metadata": {
        "id": "xq5q_NDtC1FV",
        "colab_type": "code",
        "colab": {}
      },
      "source": [
        "def get_index_from_prediction(prediction, temperature=0.0):\n",
        "\n",
        "   \n",
        "    if temperature == 0.0:\n",
        "        return np.argmax(prediction)\n",
        " \n",
        "   \n",
        "    else:\n",
        "        prediction = np.asarray(prediction).astype('float64')\n",
        "        prediction = np.log(prediction) / temperature\n",
        "        exp_prediction= np.exp(prediction)\n",
        "        prediction = exp_prediction / np.sum(exp_prediction)\n",
        "        probabilities = np.random.multinomial(1, prediction, 1)\n",
        "        return np.argmax(probabilities)"
      ],
      "execution_count": null,
      "outputs": []
    },
    {
      "cell_type": "code",
      "metadata": {
        "id": "WrGoOr03C3ni",
        "colab_type": "code",
        "colab": {
          "base_uri": "https://localhost:8080/",
          "height": 1000
        },
        "outputId": "9e66013b-122c-467f-e562-eba4bc23b7a0"
      },
      "source": [
        "main()"
      ],
      "execution_count": null,
      "outputs": [
        {
          "output_type": "stream",
          "text": [
            "Downloading corpus...\n",
            "Loading all files...\n"
          ],
          "name": "stdout"
        },
        {
          "output_type": "stream",
          "text": [
            ""
          ],
          "name": "stderr"
        },
        {
          "output_type": "stream",
          "text": [
            "Getting character set...\n",
            "Character set: [' ', '!', '\"', \"'\", '(', ')', ',', '-', '.', '/', ':', '=', '?', '`', 'a', 'b', 'c', 'd', 'e', 'f', 'g', 'h', 'i', 'j', 'k', 'l', 'm', 'n', 'o', 'p', 'q', 'r', 's', 't', 'u', 'v', 'y', 'z', '|', 'Ê', 'Ù', 'Ý', 'è', 'é', 'ê', 'í', 'ñ', 'û', 'ā', 'ġ', 'ī', 'ś', 'ū', '̐', '़', 'ॅ', 'ॉ', 'फ़', 'ḍ', 'ḥ', 'ḷ', 'ḻ', 'ṃ', 'ṅ', 'ṇ', 'ṛ', 'ṝ', 'ṣ', 'ṭ', '\\u200c', '\\u200d', '–', '’']\n",
            "Generating data set...\n"
          ],
          "name": "stdout"
        },
        {
          "output_type": "stream",
          "text": [
            "\n"
          ],
          "name": "stderr"
        },
        {
          "output_type": "stream",
          "text": [
            "train_input (100000, 40, 73)   (100000, 1, 73)\n",
            "Model: \"sequential_1\"\n",
            "_________________________________________________________________\n",
            "Layer (type)                 Output Shape              Param #   \n",
            "=================================================================\n",
            "lstm_1 (LSTM)                (None, 350)               593600    \n",
            "_________________________________________________________________\n",
            "dense_1 (Dense)              (None, 73)                25623     \n",
            "_________________________________________________________________\n",
            "reshape_1 (Reshape)          (None, 1, 73)             0         \n",
            "_________________________________________________________________\n",
            "time_distributed_1 (TimeDist (None, 1, 73)             5402      \n",
            "=================================================================\n",
            "Total params: 624,625\n",
            "Trainable params: 624,625\n",
            "Non-trainable params: 0\n",
            "_________________________________________________________________\n",
            "Epoch 1/50\n",
            "100000/100000 [==============================] - 59s 592us/step - loss: 3.1145 - accuracy: 0.2416\n",
            "Epoch 2/50\n",
            "100000/100000 [==============================] - 58s 577us/step - loss: 2.3099 - accuracy: 0.3634\n",
            "Epoch 3/50\n",
            "100000/100000 [==============================] - 58s 582us/step - loss: 2.2141 - accuracy: 0.3797\n",
            "Epoch 4/50\n",
            "100000/100000 [==============================] - 58s 579us/step - loss: 2.1497 - accuracy: 0.3909\n",
            "Epoch 5/50\n",
            "100000/100000 [==============================] - 58s 580us/step - loss: 2.0950 - accuracy: 0.4012\n",
            "Epoch 6/50\n",
            "100000/100000 [==============================] - 58s 580us/step - loss: 2.0411 - accuracy: 0.4136\n",
            "Epoch 7/50\n",
            "100000/100000 [==============================] - 58s 579us/step - loss: 1.9909 - accuracy: 0.4241\n",
            "Epoch 8/50\n",
            "100000/100000 [==============================] - 58s 576us/step - loss: 1.9461 - accuracy: 0.4330\n",
            "Epoch 9/50\n",
            "100000/100000 [==============================] - 58s 581us/step - loss: 1.9087 - accuracy: 0.4437\n",
            "Epoch 10/50\n",
            "100000/100000 [==============================] - 59s 588us/step - loss: 1.8738 - accuracy: 0.4511\n",
            "Epoch 11/50\n",
            "100000/100000 [==============================] - 59s 586us/step - loss: 1.8362 - accuracy: 0.4617\n",
            "\n",
            "Seed string:   ना सबको अच्छा लगता है । पर घर \n",
            "Result string: ना सबको अच्छा लगता है । पर घर करने करता हैं ऽ पर करन करने करता हैं ऽ समत 100\n",
            "Seed string:   टि किसी युवती पर पड जाती तो तुरन्त\n",
            "Result string: टि किसी युवती पर पड जाती तो तुरन्त करन करता हैं ऽ पर करता है ऽ समत करन करने 100\n",
            "Seed string:    यह कुचालि कछु जान न कोई॥ दो -प्र\n",
            "Result string:  यह कुचालि कछु जान न कोई॥ दो -प्रभु सब सब सब करन करन करत करत करत करता 100\n",
            "Seed string:   इव सुरक्षित रखेगा ऽ शर्वनाग र् अच्छ्\n",
            "Result string: इव सुरक्षित रखेगा ऽ शर्वनाग र् अच्छ करने करता हैं ऽ समत करन करने करता हैं ऽ प 100\n",
            "Seed string:   अ जलधर अभिलाषे॥ निदरहिं सरित \n",
            "Result string: अ जलधर अभिलाषे॥ निदरहिं सरित सब करना॥ भर भरत सब सब सब सभाई। भरत स् 100\n",
            "Epoch 12/50\n",
            "100000/100000 [==============================] - 58s 578us/step - loss: 1.8029 - accuracy: 0.4689\n",
            "Epoch 13/50\n",
            "100000/100000 [==============================] - 58s 585us/step - loss: 1.7694 - accuracy: 0.4775\n",
            "Epoch 14/50\n",
            "100000/100000 [==============================] - 58s 583us/step - loss: 1.7364 - accuracy: 0.4862\n",
            "Epoch 15/50\n",
            "100000/100000 [==============================] - 58s 584us/step - loss: 1.7024 - accuracy: 0.4939\n",
            "Epoch 16/50\n",
            "100000/100000 [==============================] - 58s 582us/step - loss: 1.6688 - accuracy: 0.5029\n",
            "Epoch 17/50\n",
            "100000/100000 [==============================] - 58s 582us/step - loss: 1.6351 - accuracy: 0.5117\n",
            "Epoch 18/50\n",
            "100000/100000 [==============================] - 58s 581us/step - loss: 1.5989 - accuracy: 0.5217\n",
            "Epoch 19/50\n",
            "100000/100000 [==============================] - 59s 587us/step - loss: 1.5631 - accuracy: 0.5312\n",
            "Epoch 20/50\n",
            "100000/100000 [==============================] - 58s 580us/step - loss: 1.5258 - accuracy: 0.5414\n",
            "Epoch 21/50\n",
            "100000/100000 [==============================] - 58s 577us/step - loss: 1.4911 - accuracy: 0.5502\n",
            "\n",
            "Seed string:   हुई और कहीं कहीं पर पूर्ण रूप से \n",
            "Result string: हुई और कहीं कहीं पर पूर्ण रूप से कह करते हैं ऽ इस सखास कहारे करते हैं ऐसे और  100\n",
            "Seed string:    । लेकिन गंगाजली को मैके आने के थोड्\n",
            "Result string:  । लेकिन गंगाजली को मैके आने के थोड उ भरदार् कÝन करते हैं ऽ पर भी हैं कहा कै कहा 100\n",
            "Seed string:   हागी। जाइअ अवध देव हित लागी॥ बार \n",
            "Result string: हागी। जाइअ अवध देव हित लागी॥ बार बरन बहु बिभाई। भरत बन भरत बहु की॥ अति समय् 100\n",
            "Seed string:   करने के लिए बाध्य हैं ऽ सबसे बडी \n",
            "Result string: करने के लिए बाध्य हैं ऽ सबसे बडी है ऽ इन करते हैं ऐसी कहा कैसे हैं ऽ इस सब्धा का स् 100\n",
            "Seed string:   आकर प्रपंचबुद्धि गिर पडता है । च्\n",
            "Result string: आकर प्रपंचबुद्धि गिर पडता है । चहै रह सकते हैं ऽ परणर् संसार करने के लिए पर प् 100\n",
            "Epoch 22/50\n",
            "100000/100000 [==============================] - 57s 570us/step - loss: 1.4487 - accuracy: 0.5628\n",
            "Epoch 23/50\n",
            "100000/100000 [==============================] - 57s 572us/step - loss: 1.4095 - accuracy: 0.5735\n",
            "Epoch 24/50\n",
            "100000/100000 [==============================] - 57s 574us/step - loss: 1.4007 - accuracy: 0.5781\n",
            "Epoch 25/50\n",
            "100000/100000 [==============================] - 57s 571us/step - loss: 1.3781 - accuracy: 0.5813\n",
            "Epoch 26/50\n",
            "100000/100000 [==============================] - 57s 571us/step - loss: 1.3044 - accuracy: 0.6032\n",
            "Epoch 27/50\n",
            "100000/100000 [==============================] - 57s 571us/step - loss: 1.2591 - accuracy: 0.6166\n",
            "Epoch 28/50\n",
            "100000/100000 [==============================] - 57s 570us/step - loss: 1.2169 - accuracy: 0.6298\n",
            "Epoch 29/50\n",
            "100000/100000 [==============================] - 56s 565us/step - loss: 1.1783 - accuracy: 0.6406\n",
            "Epoch 30/50\n",
            "100000/100000 [==============================] - 57s 571us/step - loss: 1.1430 - accuracy: 0.6489\n",
            "Epoch 31/50\n",
            "100000/100000 [==============================] - 56s 557us/step - loss: 1.1033 - accuracy: 0.6623\n",
            "\n",
            "Seed string:   ऊ॥ होत चकित चित कोट बिलोकी। सकल\n",
            "Result string: ऊ॥ होत चकित चित कोट बिलोकी। सकल महीम मन मनु मोरी। हैं भरत अनुज झु भय नाहीं॥ 100\n",
            "Seed string:   बतावें ऽ व्य इ चेतना इसीलिए परतंत्र\n",
            "Result string: बतावें ऽ व्य इ चेतना इसीलिए परतंत्र में पूर्ण हमारी प्रेमना का प्रभाव में ऽ करि नरी कैसे  100\n",
            "Seed string:   अजादा है ऽ उससे रूप हाट की नयी र् न\n",
            "Result string: अजादा है ऽ उससे रूप हाट की नयी र् नहीं । समय में अनहीं करने के लिए भी लहते हैं ऋ\" पृश् 100\n",
            "Seed string:   एँ हैं ऽ उन्हें भोग किये बिना मेरी मु\n",
            "Result string: एँ हैं ऽ उन्हें भोग किये बिना मेरी मुझे पूर्ण हैं ऽ पृश्र्द्यीऐऊश् ण्श्र्श्ट उस साधरि में पूर्ण घ् 100\n",
            "Seed string:   तÝ बिलस्यÝ रहै ऽ कहै रतनाकर सु\n",
            "Result string: तÝ बिलस्यÝ रहै ऽ कहै रतनाकर सुन हम कÝ पर्म र् मारे सÝं ऽ मन मेरे होती है । पर उस् 100\n",
            "Epoch 32/50\n",
            "100000/100000 [==============================] - 56s 557us/step - loss: 1.0632 - accuracy: 0.6738\n",
            "Epoch 33/50\n",
            "100000/100000 [==============================] - 57s 567us/step - loss: 1.0250 - accuracy: 0.6843\n",
            "Epoch 34/50\n",
            "100000/100000 [==============================] - 57s 567us/step - loss: 0.9893 - accuracy: 0.6965\n",
            "Epoch 35/50\n",
            "100000/100000 [==============================] - 57s 570us/step - loss: 0.9565 - accuracy: 0.7052\n",
            "Epoch 36/50\n",
            "100000/100000 [==============================] - 57s 568us/step - loss: 0.9209 - accuracy: 0.7170\n",
            "Epoch 37/50\n",
            "100000/100000 [==============================] - 57s 572us/step - loss: 0.8853 - accuracy: 0.7258\n",
            "Epoch 38/50\n",
            "100000/100000 [==============================] - 56s 563us/step - loss: 0.8631 - accuracy: 0.7331\n",
            "Epoch 39/50\n",
            "100000/100000 [==============================] - 56s 560us/step - loss: 0.8308 - accuracy: 0.7425\n",
            "Epoch 40/50\n",
            "100000/100000 [==============================] - 57s 567us/step - loss: 0.8002 - accuracy: 0.7524\n",
            "Epoch 41/50\n",
            "100000/100000 [==============================] - 57s 567us/step - loss: 0.8366 - accuracy: 0.7412\n",
            "\n",
            "Seed string:    र् खर्च की बात नहीं । सिद्धान्त की ब्\n",
            "Result string:  र् खर्च की बात नहीं । सिद्धान्त की भाँत और मददूला ऽ यह बहर की लखय अने में ऽ जस्म् 100\n",
            "Seed string:   झटपट उठी । मानो नींद से चÝंकी ह\n",
            "Result string: झटपट उठी । मानो नींद से चÝंकी है कि यदिरालैं अपनी स्पदेह्थ का समय एक ही नहीं तो घ् 100\n",
            "Seed string:   आयो चीर॥ भक्त कारण रूप नरहरि, \n",
            "Result string: आयो चीर॥ भक्त कारण रूप नरहरि, मिलै संग तील बिधि दीजिय जगत जग जाऊ। पाल पद प्र 100\n",
            "Seed string:    बिना करम का मानव, फिरैं डांवाडोल्\n",
            "Result string:  बिना करम का मानव, फिरैं डांवाडोलांगी॥ दो -भंग रख कर करूं करि लछि अन बहुत कर् 100\n",
            "Seed string:   यार् गया घडी रात गये घर लÝटता ऽ\n",
            "Result string: यार् गया घडी रात गये घर लÝटता ऽ हो है कि यह दंचर् ततार केवल एक हैं ऽ हो असंघर 100\n",
            "Epoch 42/50\n",
            "100000/100000 [==============================] - 57s 566us/step - loss: 0.7583 - accuracy: 0.7670\n",
            "Epoch 43/50\n",
            "100000/100000 [==============================] - 57s 565us/step - loss: 0.7173 - accuracy: 0.7794\n",
            "Epoch 44/50\n",
            "100000/100000 [==============================] - 56s 562us/step - loss: 0.6822 - accuracy: 0.7892\n",
            "Epoch 45/50\n",
            "100000/100000 [==============================] - 57s 567us/step - loss: 0.6619 - accuracy: 0.7962\n",
            "Epoch 46/50\n",
            "100000/100000 [==============================] - 57s 567us/step - loss: 0.6374 - accuracy: 0.8024\n",
            "Epoch 47/50\n",
            "100000/100000 [==============================] - 57s 568us/step - loss: 0.6199 - accuracy: 0.8069\n",
            "Epoch 48/50\n",
            "100000/100000 [==============================] - 57s 570us/step - loss: 0.5951 - accuracy: 0.8146\n",
            "Epoch 49/50\n",
            "100000/100000 [==============================] - 57s 569us/step - loss: 0.6487 - accuracy: 0.7967\n",
            "Epoch 50/50\n",
            "100000/100000 [==============================] - 57s 572us/step - loss: 0.5523 - accuracy: 0.8304\n"
          ],
          "name": "stdout"
        },
        {
          "output_type": "display_data",
          "data": {
            "image/png": "[encoded data removed]",
            "text/plain": [
              "<Figure size 432x288 with 1 Axes>"
            ]
          },
          "metadata": {
            "tags": [],
            "needs_background": "light"
          }
        }
      ]
    },
    {
      "cell_type": "code",
      "metadata": {
        "id": "qc_PiFOxC6jI",
        "colab_type": "code",
        "colab": {}
      },
      "source": [
        ""
      ],
      "execution_count": null,
      "outputs": []
    }
  ]
}